{
 "cells": [
  {
   "cell_type": "code",
   "execution_count": 1,
   "metadata": {},
   "outputs": [
    {
     "name": "stderr",
     "output_type": "stream",
     "text": [
      "/Library/Frameworks/Python.framework/Versions/3.6/lib/python3.6/site-packages/h5py/__init__.py:36: FutureWarning: Conversion of the second argument of issubdtype from `float` to `np.floating` is deprecated. In future, it will be treated as `np.float64 == np.dtype(float).type`.\n",
      "  from ._conv import register_converters as _register_converters\n",
      "Using TensorFlow backend.\n"
     ]
    },
    {
     "name": "stdout",
     "output_type": "stream",
     "text": [
      "['Parasitized', 'Untitled.ipynb', 'Uninfected', '.ipynb_checkpoints']\n"
     ]
    }
   ],
   "source": [
    "# This Python 3 environment comes with many helpful analytics libraries installed\n",
    "# It is defined by the kaggle/python docker image: https://github.com/kaggle/docker-python\n",
    "# For example, here's several helpful packages to load in \n",
    "from PIL import Image\n",
    "import cv2\n",
    "import numpy as np # linear algebra\n",
    "import os\n",
    "from keras.preprocessing import image\n",
    "from keras.models import Model\n",
    "from keras.layers import Input, Dense, Flatten, Dropout\n",
    "from keras.optimizers import Adadelta\n",
    "from keras.losses import binary_crossentropy\n",
    "from keras.layers.convolutional import Conv2D\n",
    "import matplotlib.pyplot as plt\n",
    "from keras.layers.pooling import MaxPooling2D\n",
    "# Input data files are available in the \"../input/\" directory.\n",
    "# For example, running this (by clicking run or pressing Shift+Enter) will list the files in the input directory\n",
    "print(os.listdir(\"./cell_images/\"))\n"
   ]
  },
  {
   "cell_type": "code",
   "execution_count": 2,
   "metadata": {},
   "outputs": [
    {
     "name": "stdout",
     "output_type": "stream",
     "text": [
      "'NoneType' object has no attribute '__array_interface__'\n"
     ]
    }
   ],
   "source": [
    "data=[]\n",
    "labels=[]\n",
    "parasitized_path =os.listdir(\"./cell_images/Parasitized/\")\n",
    "for pars in parasitized_path:\n",
    "    try:\n",
    "        image=cv2.imread(\"./cell_images/Parasitized/\"+ pars)\n",
    "        image_from_array = Image.fromarray(image, 'RGB')\n",
    "        size_image = image_from_array.resize((64, 64))\n",
    "        #image_from_array = image_from_array.convert('L')\n",
    "        data.append(np.array(size_image))\n",
    "        labels.append(0)\n",
    "    except Exception as e:\n",
    "        print(e)"
   ]
  },
  {
   "cell_type": "code",
   "execution_count": 3,
   "metadata": {},
   "outputs": [
    {
     "name": "stdout",
     "output_type": "stream",
     "text": [
      "'NoneType' object has no attribute '__array_interface__'\n"
     ]
    }
   ],
   "source": [
    "uninfected_path=os.listdir(\"./cell_images/Uninfected/\")\n",
    "for unef in uninfected_path:\n",
    "    try:\n",
    "        image=cv2.imread(\"./cell_images/Uninfected/\" + unef)\n",
    "        image_from_array = Image.fromarray(image, 'RGB')\n",
    "        #image_from_array = image_from_array.convert('L')\n",
    "        size_image = image_from_array.resize((64, 64))\n",
    "        data.append(np.array(size_image))\n",
    "        labels.append(1)\n",
    "    except Exception as e:\n",
    "        print(e)"
   ]
  },
  {
   "cell_type": "code",
   "execution_count": 4,
   "metadata": {},
   "outputs": [
    {
     "name": "stdout",
     "output_type": "stream",
     "text": [
      "Lenght of Data : 27558\n",
      "Lenght of Data : 27558\n"
     ]
    }
   ],
   "source": [
    "print('Lenght of Data : ' + str(len(data)))\n",
    "print('Lenght of Data : ' + str(len(labels)))\n"
   ]
  },
  {
   "cell_type": "code",
   "execution_count": 5,
   "metadata": {},
   "outputs": [
    {
     "name": "stdout",
     "output_type": "stream",
     "text": [
      "[    0     1     2 ... 27555 27556 27557]\n",
      "[19689  5572  4867 ... 10705 10674  2203]\n"
     ]
    }
   ],
   "source": [
    "numpy_data = np.array(data)\n",
    "numpy_labels = np.array(labels)\n",
    "s = np.arange(numpy_data.shape[0])\n",
    "print(s)\n",
    "np.random.shuffle(s)\n",
    "print(s)\n",
    "numpy_data = numpy_data[s]\n",
    "numpy_labels = numpy_labels[s]\n",
    "data_length = len(numpy_data)\n"
   ]
  },
  {
   "cell_type": "code",
   "execution_count": 6,
   "metadata": {},
   "outputs": [
    {
     "name": "stdout",
     "output_type": "stream",
     "text": [
      "Lenght of Data : 27558\n",
      "Lenght of Data : 27558\n"
     ]
    }
   ],
   "source": [
    "print('Lenght of Data : ' + str(len(numpy_data)))\n",
    "print('Lenght of Data : ' + str(len(numpy_labels)))"
   ]
  },
  {
   "cell_type": "code",
   "execution_count": 7,
   "metadata": {},
   "outputs": [],
   "source": [
    "training_X = numpy_data[:round(data_length * 0.95)]\n",
    "training_Y = numpy_labels[:round(data_length * 0.95)]\n",
    "#val_X = numpy_data[len(training_X) :round((len(training_X)) + (len(training_X) * 0.05)) ]\n",
    "#val_Y = numpy_labels[len(training_Y) :round((len(training_Y)) + (len(training_Y) * 0.05))]\n",
    "test_X = numpy_data[round((len(training_X))) : ]\n",
    "test_Y = numpy_labels[round((len(training_Y))): ]"
   ]
  },
  {
   "cell_type": "code",
   "execution_count": 8,
   "metadata": {},
   "outputs": [],
   "source": [
    "training_X = training_X.astype('float64') / 255\n",
    "#val_X = val_X.astype('float64') / 255\n",
    "test_X = test_X.astype('float64') / 255\n"
   ]
  },
  {
   "cell_type": "code",
   "execution_count": 9,
   "metadata": {},
   "outputs": [
    {
     "name": "stdout",
     "output_type": "stream",
     "text": [
      "_________________________________________________________________\n",
      "Layer (type)                 Output Shape              Param #   \n",
      "=================================================================\n",
      "input_1 (InputLayer)         (None, 64, 64, 3)         0         \n",
      "_________________________________________________________________\n",
      "conv2d_1 (Conv2D)            (None, 61, 61, 64)        3136      \n",
      "_________________________________________________________________\n",
      "max_pooling2d_1 (MaxPooling2 (None, 30, 30, 64)        0         \n",
      "_________________________________________________________________\n",
      "conv2d_2 (Conv2D)            (None, 27, 27, 32)        32800     \n",
      "_________________________________________________________________\n",
      "max_pooling2d_2 (MaxPooling2 (None, 13, 13, 32)        0         \n",
      "_________________________________________________________________\n",
      "conv2d_3 (Conv2D)            (None, 10, 10, 16)        8208      \n",
      "_________________________________________________________________\n",
      "max_pooling2d_3 (MaxPooling2 (None, 5, 5, 16)          0         \n",
      "_________________________________________________________________\n",
      "flatten_1 (Flatten)          (None, 400)               0         \n",
      "_________________________________________________________________\n",
      "dense_1 (Dense)              (None, 8)                 3208      \n",
      "_________________________________________________________________\n",
      "dropout_1 (Dropout)          (None, 8)                 0         \n",
      "_________________________________________________________________\n",
      "dense_2 (Dense)              (None, 4)                 36        \n",
      "_________________________________________________________________\n",
      "dropout_2 (Dropout)          (None, 4)                 0         \n",
      "_________________________________________________________________\n",
      "dense_3 (Dense)              (None, 1)                 5         \n",
      "=================================================================\n",
      "Total params: 47,393\n",
      "Trainable params: 47,393\n",
      "Non-trainable params: 0\n",
      "_________________________________________________________________\n",
      "None\n"
     ]
    }
   ],
   "source": [
    "visible = Input(shape=(64,64,3))\n",
    "\n",
    "conv1 = Conv2D(64, kernel_size=4, activation='relu')(visible)\n",
    "pool1 = MaxPooling2D(pool_size=(2, 2))(conv1)\n",
    "\n",
    "conv2 = Conv2D(32, kernel_size=4, activation='relu')(pool1)\n",
    "pool2 = MaxPooling2D(pool_size=(2, 2))(conv2)\n",
    "\n",
    "conv3 = Conv2D(16, kernel_size=4, activation='relu')(pool2)\n",
    "pool3 = MaxPooling2D(pool_size=(2, 2))(conv3)\n",
    "\n",
    "flat = Flatten()(pool3)\n",
    "hidden1 = Dense(8, activation='relu')(flat)\n",
    "dropout1 = Dropout(0.2)(hidden1)\n",
    "hidden2 = Dense(4, activation='relu')(dropout1)\n",
    "dropout2 = Dropout(0.1)(hidden2)\n",
    "\n",
    "output = Dense(1, activation='sigmoid')(dropout2)\n",
    "model = Model(inputs=visible, outputs=output)\n",
    "print(model.summary())"
   ]
  },
  {
   "cell_type": "code",
   "execution_count": 10,
   "metadata": {},
   "outputs": [],
   "source": [
    "model.compile(loss='binary_crossentropy',\n",
    "              optimizer='adam',\n",
    "              metrics=['accuracy'])"
   ]
  },
  {
   "cell_type": "code",
   "execution_count": 11,
   "metadata": {},
   "outputs": [
    {
     "name": "stdout",
     "output_type": "stream",
     "text": [
      "Train on 26180 samples, validate on 1378 samples\n",
      "Epoch 1/10\n",
      "26180/26180 [==============================] - 373s 14ms/step - loss: 0.4756 - acc: 0.7490 - val_loss: 0.2092 - val_acc: 0.9340\n",
      "Epoch 2/10\n",
      "26180/26180 [==============================] - 351s 13ms/step - loss: 0.2360 - acc: 0.9266 - val_loss: 0.1624 - val_acc: 0.9550\n",
      "Epoch 3/10\n",
      "26180/26180 [==============================] - 355s 14ms/step - loss: 0.1967 - acc: 0.9463 - val_loss: 0.1461 - val_acc: 0.9586\n",
      "Epoch 4/10\n",
      "26180/26180 [==============================] - 323s 12ms/step - loss: 0.1866 - acc: 0.9483 - val_loss: 0.1257 - val_acc: 0.9637\n",
      "Epoch 5/10\n",
      "26180/26180 [==============================] - 337s 13ms/step - loss: 0.1746 - acc: 0.9501 - val_loss: 0.1262 - val_acc: 0.9615\n",
      "Epoch 6/10\n",
      "26180/26180 [==============================] - 328s 13ms/step - loss: 0.1664 - acc: 0.9509 - val_loss: 0.1169 - val_acc: 0.9630\n",
      "Epoch 7/10\n",
      "26180/26180 [==============================] - 347s 13ms/step - loss: 0.1608 - acc: 0.9518 - val_loss: 0.1127 - val_acc: 0.9623\n",
      "Epoch 8/10\n",
      "26180/26180 [==============================] - 337s 13ms/step - loss: 0.1546 - acc: 0.9526 - val_loss: 0.1158 - val_acc: 0.9615\n",
      "Epoch 9/10\n",
      "26180/26180 [==============================] - 332s 13ms/step - loss: 0.1500 - acc: 0.9528 - val_loss: 0.1107 - val_acc: 0.9637\n",
      "Epoch 10/10\n",
      "26180/26180 [==============================] - 329s 13ms/step - loss: 0.1418 - acc: 0.9549 - val_loss: 0.1078 - val_acc: 0.9623\n"
     ]
    }
   ],
   "source": [
    "\n",
    "graph_viz = model.fit(\n",
    "        training_X,\n",
    "        training_Y,\n",
    "        epochs = 10,\n",
    "        batch_size = 64,\n",
    "        validation_data=(test_X,test_Y)    \n",
    "        )\n"
   ]
  },
  {
   "cell_type": "code",
   "execution_count": 12,
   "metadata": {},
   "outputs": [
    {
     "data": {
      "image/png": "[encoded data removed]",
      "text/plain": [
       "<matplotlib.figure.Figure at 0x153721390>"
      ]
     },
     "metadata": {},
     "output_type": "display_data"
    }
   ],
   "source": [
    "plt.plot(graph_viz.history['acc'])\n",
    "plt.plot(graph_viz.history['val_acc'])\n",
    "plt.title('Model accuracy')\n",
    "plt.ylabel('Accuracy')\n",
    "plt.xlabel('Epoch')\n",
    "plt.legend(['Train', 'Test'], loc='upper left')\n",
    "plt.show()"
   ]
  },
  {
   "cell_type": "code",
   "execution_count": 13,
   "metadata": {},
   "outputs": [
    {
     "data": {
      "image/png": "[encoded data removed]",
      "text/plain": [
       "<matplotlib.figure.Figure at 0x1541937b8>"
      ]
     },
     "metadata": {},
     "output_type": "display_data"
    }
   ],
   "source": [
    "plt.plot(graph_viz.history['loss'])\n",
    "plt.plot(graph_viz.history['val_loss'])\n",
    "plt.title('Model loss')\n",
    "plt.ylabel('Loss')\n",
    "plt.xlabel('Epoch')\n",
    "plt.legend(['Train', 'Test'], loc='upper left')\n",
    "plt.show()\n"
   ]
  },
  {
   "cell_type": "code",
   "execution_count": 14,
   "metadata": {},
   "outputs": [
    {
     "name": "stdout",
     "output_type": "stream",
     "text": [
      "[[0.99479276]]\n",
      "0.537891149520874\n"
     ]
    }
   ],
   "source": [
    "import time\n",
    "a = time.time()\n",
    "print(model.predict(test_X[10].reshape((1,64,64,3))))\n",
    "b = time.time()\n",
    "c = b - a\n",
    "print(c)"
   ]
  },
  {
   "cell_type": "code",
   "execution_count": 15,
   "metadata": {},
   "outputs": [
    {
     "data": {
      "text/plain": [
       "1"
      ]
     },
     "execution_count": 15,
     "metadata": {},
     "output_type": "execute_result"
    }
   ],
   "source": [
    "test_Y[10]\n"
   ]
  },
  {
   "cell_type": "code",
   "execution_count": 16,
   "metadata": {},
   "outputs": [
    {
     "name": "stdout",
     "output_type": "stream",
     "text": [
      "Saved model to disk\n"
     ]
    }
   ],
   "source": [
    "# serialize weights to HDF5\n",
    "model.save_weights(\"model.h5\")\n",
    "print(\"Saved model to disk\")"
   ]
  },
  {
   "cell_type": "code",
   "execution_count": 17,
   "metadata": {},
   "outputs": [],
   "source": [
    "# # load weights into new model\n",
    "# loaded_model.load_weights(\"model.h5\")\n",
    "# print(\"Loaded model from disk\")"
   ]
  }
 ],
 "metadata": {
  "kernelspec": {
   "display_name": "Python 3",
   "language": "python",
   "name": "python3"
  },
  "language_info": {
   "codemirror_mode": {
    "name": "ipython",
    "version": 3
   },
   "file_extension": ".py",
   "mimetype": "text/x-python",
   "name": "python",
   "nbconvert_exporter": "python",
   "pygments_lexer": "ipython3",
   "version": "3.6.2"
  }
 },
 "nbformat": 4,
 "nbformat_minor": 2
}
